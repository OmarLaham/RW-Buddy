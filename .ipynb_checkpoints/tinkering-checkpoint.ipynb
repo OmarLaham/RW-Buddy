{
 "cells": [
  {
   "cell_type": "markdown",
   "id": "a934921e",
   "metadata": {},
   "source": [
    "# A- Generate daily plan"
   ]
  },
  {
   "cell_type": "markdown",
   "id": "642a9db9",
   "metadata": {},
   "source": [
    "## Daily plan JSON structure"
   ]
  },
  {
   "cell_type": "code",
   "execution_count": 1,
   "id": "37768b74",
   "metadata": {},
   "outputs": [],
   "source": [
    "plan = {\n",
    "    \"date\": \"\",\n",
    "    \n",
    "    \"start_location\": \"\",\n",
    "    \"places_to_visit\": [\n",
    "        {\n",
    "            \"name\": \"\",\n",
    "            \"location\": \"\",\n",
    "            \"validated\": False\n",
    "        },\n",
    "        {\n",
    "            \"name\": \"\",\n",
    "            \"location\": \"\",\n",
    "            \"validated\": False\n",
    "        }\n",
    "    ],\n",
    "    \"sport_exercises\": [\n",
    "        {\n",
    "            \"exercise\": \"\",\n",
    "            \"count_goal\": 0,\n",
    "            \"count_done\": 0,\n",
    "        },\n",
    "        {\n",
    "            \"exercise\": \"\",\n",
    "            \"count_goal\": 0,\n",
    "            \"count_done\": 0,\n",
    "        }\n",
    "    ],\n",
    "    \"gained_coins\": 0\n",
    "}"
   ]
  },
  {
   "cell_type": "markdown",
   "id": "07c490a6",
   "metadata": {},
   "source": [
    "## Find places to visit in the near by\n",
    "## Google Places API - Nearby Search "
   ]
  },
  {
   "cell_type": "code",
   "execution_count": 26,
   "id": "8fba6f10",
   "metadata": {},
   "outputs": [],
   "source": [
    "import random\n",
    "import requests\n",
    "import googlemaps # Github: https://github.com/googlemaps/google-maps-services-python/tree/master\n",
    "import APIs_keys as keys #API_keys.py has been added to .gitignore"
   ]
  },
  {
   "cell_type": "code",
   "execution_count": 3,
   "id": "aa5e4e98",
   "metadata": {},
   "outputs": [],
   "source": [
    "#init python-google-maps-api client\n",
    "try:\n",
    "    del gmaps\n",
    "except:\n",
    "    pass\n",
    "gmaps = googlemaps.Client(key=keys.GOOGLE_PLACES_API_KEY)"
   ]
  },
  {
   "cell_type": "code",
   "execution_count": 51,
   "id": "f158c34d",
   "metadata": {},
   "outputs": [],
   "source": [
    "# for tinkering, use Aschaffenburg, DE long and lat. Later we get them from the web browser geolocation.\n",
    "start_location = {\n",
    "    \"lat\": 49.9807,\n",
    "    \"long\": 9.1356,\n",
    "}\n",
    "\n",
    "# another way to get geometry is to use gmaps Geocode API\n",
    "\"\"\"\n",
    "geocode_result = gmaps.geocode('Aschaffenburg Hbf, Aschaffenburg, DE')\n",
    "geocode_result[0][\"geometry\"][\"location\"]\n",
    "res: \n",
    "{'lat': 49.98056, 'lng': 9.143699999999999}\n",
    "\"\"\"\n",
    "\n",
    "# distance from search center in meter (int)\n",
    "search_radius = 30000 #30KM\n",
    "\n",
    "# gmaps place types. Full supported values: https://developers.google.com/maps/documentation/places/web-service/supported_types\n",
    "motivated_work_plc_types = [\n",
    "    \"library\", \"university\"\n",
    "]\n",
    "lazy_work_plc_types = [\n",
    "    \"bakery\", \"cafe\", \"restaurant\", \"shopping_mall\"\n",
    "]\n",
    "fun_plc_types = [\n",
    "    \"amusement_park\", \"aquarium\", \"art_gallery\", \"jewelry_store\", \"movie_theater\", \"museum\",\n",
    "    \"park\", \"tourist_attraction\"\n",
    "]\n",
    "\n",
    "# Google Places results filtering criteria\n",
    "MAX_N_PLCS = 2\n",
    "MIN_RATING = 3.5\n",
    "INCLUDE_MAPS_AND_PHOTOS = True"
   ]
  },
  {
   "cell_type": "code",
   "execution_count": 52,
   "id": "41f3f469",
   "metadata": {},
   "outputs": [],
   "source": [
    "def filter_places(gmaps_places_res, max_n_plcs, min_rating=0, include_maps_and_photos=True):\n",
    "    lst_fun_plcs = []\n",
    "    for place in gmaps_places_res[\"results\"]:\n",
    "        name = place[\"name\"]\n",
    "        if \"rating\" in place:\n",
    "            rating = place[\"rating\"]\n",
    "        else:\n",
    "            rating = \"NA\"\n",
    "        if rating == \"NA\" or rating < min_rating:\n",
    "            continue # exclude this place\n",
    "        try:\n",
    "            maps_and_photos = place[\"photos\"][0][\"html_attributions\"][0].replace('<a href=\"', '').split('\">')[0]\n",
    "        except:\n",
    "            maps_and_photos = \"NA\"\n",
    "            if include_maps_and_photos:\n",
    "                continue # exclude this place\n",
    "                \n",
    "        lst_fun_plcs.append(\n",
    "            {\n",
    "                \"name\": name,\n",
    "                \"rating\": rating,\n",
    "                \"maps_and_photos\": maps_and_photos\n",
    "            }\n",
    "        )\n",
    "\n",
    "    # filter results to max_n_places\n",
    "    return random.sample(lst_fun_plcs, max_n_plcs)"
   ]
  },
  {
   "cell_type": "code",
   "execution_count": 53,
   "id": "7b96d443",
   "metadata": {},
   "outputs": [
    {
     "name": "stdout",
     "output_type": "stream",
     "text": [
      "Found 20 work places.\n",
      "{'name': 'Stadtbücherei Babenhausen', 'rating': 4.9, 'maps_and_photos': 'https://maps.google.com/maps/contrib/117290890366072471342'}\n",
      "{'name': 'Stadtbücherei Obernburg', 'rating': 4.9, 'maps_and_photos': 'https://maps.google.com/maps/contrib/102901960301702614600'}\n"
     ]
    }
   ],
   "source": [
    "# Generate Work Places\n",
    "feel_motivated = True\n",
    "work_plcs = gmaps.places_nearby(\n",
    "    location = (start_location[\"lat\"], start_location[\"long\"]),\n",
    "    radius = search_radius,\n",
    "    type = motivated_work_plc_types if feel_motivated else lazy_work_plc_types,\n",
    "    language = \n",
    "    \"en\")\n",
    "\n",
    "print(\"Found {0} work places.\".format(len(work_plcs[\"results\"])))\n",
    "\n",
    "# pick random 2 matching the criteria\n",
    "rnd_work_plcs = filter_places(work_plcs, max_n_plcs = MAX_N_PLCS, min_rating = MIN_RATING, include_maps_and_photos=INCLUDE_MAPS_AND_PHOTOS)\n",
    "for plc in rnd_work_plcs:\n",
    "    print(plc)"
   ]
  },
  {
   "cell_type": "code",
   "execution_count": 54,
   "id": "87827b1a",
   "metadata": {},
   "outputs": [
    {
     "name": "stdout",
     "output_type": "stream",
     "text": [
      "Found 16 fun places.\n",
      "{'name': 'Licht- und Luftbad Hanau e.V.', 'rating': 4.5, 'maps_and_photos': 'https://maps.google.com/maps/contrib/109345864326629900080'}\n",
      "{'name': \"Jump'n Fly Trampolinpark Aschaffenburg\", 'rating': 4.4, 'maps_and_photos': 'https://maps.google.com/maps/contrib/109296309447529464897'}\n"
     ]
    }
   ],
   "source": [
    "# Generate Fun Places\n",
    "fun_plcs = gmaps.places_nearby(\n",
    "    location = (start_location[\"lat\"], start_location[\"long\"]),\n",
    "    radius = search_radius,\n",
    "    type = fun_plc_types,\n",
    "    language = \"en\")\n",
    "\n",
    "print(\"Found {0} fun places.\".format(len(fun_plcs[\"results\"])))\n",
    "\n",
    "# pick random 2 matching the criteria\n",
    "rnd_fun_plcs = filter_places(fun_plcs, max_n_plcs = MAX_N_PLCS, min_rating = MIN_RATING, include_maps_and_photos=INCLUDE_MAPS_AND_PHOTOS)\n",
    "for plc in rnd_fun_plcs:\n",
    "    print(plc)"
   ]
  },
  {
   "cell_type": "code",
   "execution_count": null,
   "id": "a6e30abe",
   "metadata": {},
   "outputs": [],
   "source": []
  }
 ],
 "metadata": {
  "kernelspec": {
   "display_name": "Python 3 (ipykernel)",
   "language": "python",
   "name": "python3"
  },
  "language_info": {
   "codemirror_mode": {
    "name": "ipython",
    "version": 3
   },
   "file_extension": ".py",
   "mimetype": "text/x-python",
   "name": "python",
   "nbconvert_exporter": "python",
   "pygments_lexer": "ipython3",
   "version": "3.9.18"
  }
 },
 "nbformat": 4,
 "nbformat_minor": 5
}
