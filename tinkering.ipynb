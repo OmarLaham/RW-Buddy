{
 "cells": [
  {
   "cell_type": "markdown",
   "id": "9f88d327",
   "metadata": {},
   "source": [
    "# A- Generate daily plan"
   ]
  },
  {
   "cell_type": "markdown",
   "id": "bd16a837",
   "metadata": {},
   "source": [
    "## Daily plan JSON structure"
   ]
  },
  {
   "cell_type": "code",
   "execution_count": 2,
   "id": "bc447797",
   "metadata": {},
   "outputs": [],
   "source": [
    "plan = {\n",
    "    \"date\": \"\",\n",
    "    \n",
    "    \"start_location\": \"\",\n",
    "    \"places_to_visit\": [\n",
    "        {\n",
    "            \"name\": \"\",\n",
    "            \"location\": \"\",\n",
    "            \"validated\": False\n",
    "        },\n",
    "        {\n",
    "            \"name\": \"\",\n",
    "            \"location\": \"\",\n",
    "            \"validated\": False\n",
    "        }\n",
    "    ],\n",
    "    \"sport_exercises\": [\n",
    "        {\n",
    "            \"exercise\": \"\",\n",
    "            \"count_goal\": 0,\n",
    "            \"count_done\": 0,\n",
    "        },\n",
    "        {\n",
    "            \"exercise\": \"\",\n",
    "            \"count_goal\": 0,\n",
    "            \"count_done\": 0,\n",
    "        }\n",
    "    ],\n",
    "    \"gained_coins\": 0\n",
    "}"
   ]
  },
  {
   "cell_type": "code",
   "execution_count": null,
   "id": "0f61d736",
   "metadata": {},
   "outputs": [],
   "source": []
  },
  {
   "cell_type": "code",
   "execution_count": null,
   "id": "2049dd52",
   "metadata": {},
   "outputs": [],
   "source": []
  }
 ],
 "metadata": {
  "kernelspec": {
   "display_name": "Python 3 (ipykernel)",
   "language": "python",
   "name": "python3"
  },
  "language_info": {
   "codemirror_mode": {
    "name": "ipython",
    "version": 3
   },
   "file_extension": ".py",
   "mimetype": "text/x-python",
   "name": "python",
   "nbconvert_exporter": "python",
   "pygments_lexer": "ipython3",
   "version": "3.9.18"
  }
 },
 "nbformat": 4,
 "nbformat_minor": 5
}
