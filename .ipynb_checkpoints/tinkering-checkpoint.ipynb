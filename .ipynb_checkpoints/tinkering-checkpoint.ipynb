{
 "cells": [
  {
   "cell_type": "markdown",
   "id": "a934921e",
   "metadata": {},
   "source": [
    "# A- Generate daily plan"
   ]
  },
  {
   "cell_type": "markdown",
   "id": "642a9db9",
   "metadata": {},
   "source": [
    "## Daily plan JSON structure"
   ]
  },
  {
   "cell_type": "code",
   "execution_count": 1,
   "id": "37768b74",
   "metadata": {},
   "outputs": [],
   "source": [
    "plan = {\n",
    "    \"date\": \"\",\n",
    "    \n",
    "    \"start_location\": \"\",\n",
    "    \"places_to_visit\": [\n",
    "        {\n",
    "            \"name\": \"\",\n",
    "            \"location\": \"\",\n",
    "            \"validated\": False\n",
    "        },\n",
    "        {\n",
    "            \"name\": \"\",\n",
    "            \"location\": \"\",\n",
    "            \"validated\": False\n",
    "        }\n",
    "    ],\n",
    "    \"sport_exercises\": [\n",
    "        {\n",
    "            \"exercise\": \"\",\n",
    "            \"count_goal\": 0,\n",
    "            \"count_done\": 0,\n",
    "        },\n",
    "        {\n",
    "            \"exercise\": \"\",\n",
    "            \"count_goal\": 0,\n",
    "            \"count_done\": 0,\n",
    "        }\n",
    "    ],\n",
    "    \"gained_coins\": 0\n",
    "}"
   ]
  },
  {
   "cell_type": "markdown",
   "id": "07c490a6",
   "metadata": {},
   "source": [
    "## Find places to visit in the near by\n",
    "## Google Places API - Nearby Search "
   ]
  },
  {
   "cell_type": "code",
   "execution_count": 26,
   "id": "8fba6f10",
   "metadata": {},
   "outputs": [],
   "source": [
    "import random\n",
    "import requests\n",
    "import googlemaps # Github: https://github.com/googlemaps/google-maps-services-python/tree/master\n",
    "import APIs_keys as keys #API_keys.py has been added to .gitignore"
   ]
  },
  {
   "cell_type": "code",
   "execution_count": 3,
   "id": "aa5e4e98",
   "metadata": {},
   "outputs": [],
   "source": [
    "#init python-google-maps-api client\n",
    "try:\n",
    "    del gmaps\n",
    "except:\n",
    "    pass\n",
    "gmaps = googlemaps.Client(key=keys.GOOGLE_PLACES_API_KEY)"
   ]
  },
  {
   "cell_type": "code",
   "execution_count": 29,
   "id": "f158c34d",
   "metadata": {},
   "outputs": [],
   "source": [
    "# for tinkering, use Aschaffenburg, DE long and lat. Later we get them from the web browser geolocation.\n",
    "start_location = {\n",
    "    \"lat\": 49.9807,\n",
    "    \"long\": 9.1356,\n",
    "}\n",
    "\n",
    "# another way to get geometry is to use gmaps Geocode API\n",
    "\"\"\"\n",
    "geocode_result = gmaps.geocode('Aschaffenburg Hbf, Aschaffenburg, DE')\n",
    "geocode_result[0][\"geometry\"][\"location\"]\n",
    "res: \n",
    "{'lat': 49.98056, 'lng': 9.143699999999999}\n",
    "\"\"\"\n",
    "\n",
    "# distance from search center in meter (int)\n",
    "search_radius = 30000 #30KM\n",
    "\n",
    "# gmaps place types. Full supported values: https://developers.google.com/maps/documentation/places/web-service/supported_types\n",
    "motivated_work_plc_types = [\n",
    "    \"book_store\", \"library\", \"university\"\n",
    "]\n",
    "lazy_work_plc_types = [\n",
    "    \"bakery\", \"cafe\", \"restaurant\", \"shopping_mall\"\n",
    "]\n",
    "fun_plc_types = [\n",
    "    \"amusement_park\", \"aquarium\", \"art_gallery\", \"jewelry_store\", \"movie_theater\", \"museum\",\n",
    "    \"park\", \"tourist_attraction\"\n",
    "]"
   ]
  },
  {
   "cell_type": "code",
   "execution_count": 38,
   "id": "b9b5568c",
   "metadata": {},
   "outputs": [
    {
     "name": "stdout",
     "output_type": "stream",
     "text": [
      "N. Work places: 20\n",
      "{'html_attributions': [], 'next_page_token': 'AUc7tXX4ch_Pref-o4tKaX7-jwbuziNp3kxZuURVv_iXdrBzD0rIotINGm-lp4MOALNwWWsubZXF54W1SdAjzb47VC_tBLnDLsoCvgyew-OEyBL25CLAY1mW46wJhcYRxC2Wpx4kbVuKaxOhbUtw4sms1EzO98jLJkXdsuI03mxXWPcOoEUFBiMI57_TY8kl74TpxO7KmV7zWYti-KGj8JbGKBtY6ZVc7-39iMi1xEdHJvanMfcLUrCUd5O6OeO5afB3jKUrB0B5I3kCTXg9vfSewWPbUj9waO1rkxPz5SRALL8OLzbhJHyTwkkO240tijgCxnxGkJg_8VS_pnT5Vquckvzg7HN7zrysOxzX4yayagsyPnWL8iaM5R2EcpddKpOPRr2qn4bkpH0BK-FXnvpVmMgmZcMOVYZF3WZpu0fa_jM1dYKzglI68ORZ', 'results': [{'business_status': 'OPERATIONAL', 'geometry': {'location': {'lat': 49.9034556, 'lng': 8.8405349}, 'viewport': {'northeast': {'lat': 49.9047491802915, 'lng': 8.842060530291501}, 'southwest': {'lat': 49.9020512197085, 'lng': 8.839362569708497}}}, 'icon': 'https://maps.gstatic.com/mapfiles/place_api/icons/v1/png_71/shopping-71.png', 'icon_background_color': '#4B96F3', 'icon_mask_base_uri': 'https://maps.gstatic.com/mapfiles/place_api/icons/v2/shopping_pinlet', 'name': 'ServiceStore DB - Bahnhof Dieburg', 'opening_hours': {'open_now': True}, 'photos': [{'height': 2329, 'html_attributions': ['<a href=\"https://maps.google.com/maps/contrib/117087054692682110429\">ServiceStore DB - Bahnhof Dieburg</a>'], 'photo_reference': 'AUc7tXUqfdWOmGgYZW4TIp96a6c2HpHPpYHAX1siRHk6n7f5w7e-kjA9SttGubipS5zY-tS2QsPqVidPlLe9t8ZMKxfnnjg64m4USg1ic7ARKXCQLbMG357wtyd7-nvzQZsOSbM06UcJ6F9L-mr7GY1yIJpPUyCgSxzjz0woO6V0jf8zIOee', 'width': 3500}], 'place_id': 'ChIJJU0WAz5pvUcRVD3lUMQ9-SU', 'plus_code': {'compound_code': 'WR3R+96 Dieburg, Germany', 'global_code': '8FXCWR3R+96'}, 'rating': 3.7, 'reference': 'ChIJJU0WAz5pvUcRVD3lUMQ9-SU', 'scope': 'GOOGLE', 'types': ['book_store', 'food', 'point_of_interest', 'store', 'establishment'], 'user_ratings_total': 193, 'vicinity': 'Am Bahnhof 6, Dieburg'}, {'business_status': 'OPERATIONAL', 'geometry': {'location': {'lat': 50.01279999999999, 'lng': 8.793099999999999}, 'viewport': {'northeast': {'lat': 50.01430558029149, 'lng': 8.794614430291503}, 'southwest': {'lat': 50.0116076197085, 'lng': 8.791916469708498}}}, 'icon': 'https://maps.gstatic.com/mapfiles/place_api/icons/v1/png_71/gas_station-71.png', 'icon_background_color': '#909CE1', 'icon_mask_base_uri': 'https://maps.gstatic.com/mapfiles/place_api/icons/v2/gas_pinlet', 'name': 'JET Tankstelle', 'opening_hours': {'open_now': True}, 'photos': [{'height': 900, 'html_attributions': ['<a href=\"https://maps.google.com/maps/contrib/103362771649822875407\">JET Tankstelle</a>'], 'photo_reference': 'AUc7tXWz7YG97WfcbfHI6R5I7l_q5Y_rdDMDxGvs_DUhIeZvTN7zmrzonukiJJTtyflOT-uNK7dmwlDWNA6z4GC5qajsaksS76hoEjthspHlxmWS6CHUuHbu5dGwwsZk8Gk1XhnfwfUOcjOBVaZgzWBxL9dp9u1PDKYvXLrqQAA2TuYKjjtu', 'width': 1600}], 'place_id': 'ChIJGbn2-yptvUcRAlhsm09aqQ8', 'plus_code': {'compound_code': '2Q7V+46 Dietzenbach, Germany', 'global_code': '9F2C2Q7V+46'}, 'rating': 4, 'reference': 'ChIJGbn2-yptvUcRAlhsm09aqQ8', 'scope': 'GOOGLE', 'types': ['gas_station', 'supermarket', 'car_wash', 'book_store', 'cafe', 'grocery_or_supermarket', 'restaurant', 'food', 'point_of_interest', 'store', 'establishment'], 'user_ratings_total': 352, 'vicinity': 'Elisabeth-Selbert-Straße 1, Dietzenbach'}, {'business_status': 'OPERATIONAL', 'geometry': {'location': {'lat': 49.96408630000001, 'lng': 9.189917999999999}, 'viewport': {'northeast': {'lat': 49.96530243029151, 'lng': 9.191062080291504}, 'southwest': {'lat': 49.96260446970851, 'lng': 9.188364119708499}}}, 'icon': 'https://maps.gstatic.com/mapfiles/place_api/icons/v1/png_71/gas_station-71.png', 'icon_background_color': '#909CE1', 'icon_mask_base_uri': 'https://maps.gstatic.com/mapfiles/place_api/icons/v2/gas_pinlet', 'name': 'JET Tankstelle', 'opening_hours': {'open_now': True}, 'photos': [{'height': 1192, 'html_attributions': ['<a href=\"https://maps.google.com/maps/contrib/118071954379087168005\">JET Tankstelle</a>'], 'photo_reference': 'AUc7tXVGm4cSYEBs_WX-K-t9JT79_fU7N6GXtHSXrHjNWAhdpgTBir-g0iBg4RnXk9TnggPjd2rjaVRgg_GfaPj71vZbNL9Jj1NR57zm2GaUJvzeKMzX8iXX5HxDI0EZ2-sG_3YwRDaUpucWj1mWO1BW-Njsw2ufPArQcFz_HmHP2EfYidW-', 'width': 2118}], 'place_id': 'ChIJcfo2bThIvUcRiy9uWb48L_A', 'plus_code': {'compound_code': 'X57Q+JX Haibach, Germany', 'global_code': '8FXFX57Q+JX'}, 'rating': 4.5, 'reference': 'ChIJcfo2bThIvUcRiy9uWb48L_A', 'scope': 'GOOGLE', 'types': ['gas_station', 'supermarket', 'car_wash', 'book_store', 'cafe', 'grocery_or_supermarket', 'restaurant', 'food', 'point_of_interest', 'store', 'establishment'], 'user_ratings_total': 473, 'vicinity': 'Industriestraße-Ost 1, Haibach'}, {'business_status': 'OPERATIONAL', 'geometry': {'location': {'lat': 50.03570000000001, 'lng': 8.8846}, 'viewport': {'northeast': {'lat': 50.0370464802915, 'lng': 8.886036930291503}, 'southwest': {'lat': 50.0343485197085, 'lng': 8.883338969708499}}}, 'icon': 'https://maps.gstatic.com/mapfiles/place_api/icons/v1/png_71/gas_station-71.png', 'icon_background_color': '#909CE1', 'icon_mask_base_uri': 'https://maps.gstatic.com/mapfiles/place_api/icons/v2/gas_pinlet', 'name': 'JET Tankstelle', 'opening_hours': {'open_now': True}, 'photos': [{'height': 1195, 'html_attributions': ['<a href=\"https://maps.google.com/maps/contrib/114323170710549002913\">JET Tankstelle</a>'], 'photo_reference': 'AUc7tXUgbmqf7EOG5Uj7KLhQvGgjTXUYW2jggHnlfx9rvTcII6y9U2KWiXVb3zVLSiAaFK_hdGyZmDrkW5D-ghwvE5cJUqtA6nM7p1BlxRhKmPwUjnv0lbuTDv1EE9WJWj28hU52mUlRbcsWU2KyxOXqGqFtf9BCSYxC-C7lORhxfW4NJIRV', 'width': 2119}], 'place_id': 'ChIJbyHL5uwUvUcRf_zmhKa91SA', 'plus_code': {'compound_code': '2VPM+7R Rodgau, Germany', 'global_code': '9F2C2VPM+7R'}, 'rating': 4.3, 'reference': 'ChIJbyHL5uwUvUcRf_zmhKa91SA', 'scope': 'GOOGLE', 'types': ['gas_station', 'supermarket', 'book_store', 'cafe', 'grocery_or_supermarket', 'food', 'point_of_interest', 'store', 'establishment'], 'user_ratings_total': 450, 'vicinity': 'Weiskircher Straße 126, Rodgau'}, {'business_status': 'OPERATIONAL', 'geometry': {'location': {'lat': 49.872, 'lng': 8.9145}, 'viewport': {'northeast': {'lat': 49.8733631302915, 'lng': 8.9157959802915}, 'southwest': {'lat': 49.8706651697085, 'lng': 8.913098019708496}}}, 'icon': 'https://maps.gstatic.com/mapfiles/place_api/icons/v1/png_71/gas_station-71.png', 'icon_background_color': '#909CE1', 'icon_mask_base_uri': 'https://maps.gstatic.com/mapfiles/place_api/icons/v2/gas_pinlet', 'name': 'JET Tankstelle', 'opening_hours': {'open_now': True}, 'photos': [{'height': 1192, 'html_attributions': ['<a href=\"https://maps.google.com/maps/contrib/102427974220916764600\">JET Tankstelle</a>'], 'photo_reference': 'AUc7tXUcx7q7Md_T9d4rD7331il97xXIN_3uD6onlsoRavlPnEjTRtSQdu1LGpAQSSkt0OUVkfZyxaE4on80kJhLEioUPNpGXE0j9mfN0oDnT8LLDsgGaqgur2emGoU3LZO0hFQJj_qiJV6cdb9yDz2XT5YLpp16zCdezsqVrAzOjMdMm-b_', 'width': 2118}], 'place_id': 'ChIJqVtAIYNCvUcRwYsjy6VdOQ0', 'plus_code': {'compound_code': 'VWC7+RR Gross-Umstadt, Germany', 'global_code': '8FXCVWC7+RR'}, 'rating': 4.3, 'reference': 'ChIJqVtAIYNCvUcRwYsjy6VdOQ0', 'scope': 'GOOGLE', 'types': ['gas_station', 'supermarket', 'car_wash', 'book_store', 'cafe', 'grocery_or_supermarket', 'restaurant', 'food', 'point_of_interest', 'store', 'establishment'], 'user_ratings_total': 443, 'vicinity': 'Georg-August-Zinn-Straße 100, Groß-Umstadt'}, {'business_status': 'OPERATIONAL', 'geometry': {'location': {'lat': 50.1358411, 'lng': 8.918643600000001}, 'viewport': {'northeast': {'lat': 50.1372034802915, 'lng': 8.920079530291503}, 'southwest': {'lat': 50.1345055197085, 'lng': 8.917381569708498}}}, 'icon': 'https://maps.gstatic.com/mapfiles/place_api/icons/v1/png_71/shopping-71.png', 'icon_background_color': '#4B96F3', 'icon_mask_base_uri': 'https://maps.gstatic.com/mapfiles/place_api/icons/v2/shopping_pinlet', 'name': 'Bookstore at Liberty Square', 'opening_hours': {'open_now': True}, 'photos': [{'height': 2592, 'html_attributions': ['<a href=\"https://maps.google.com/maps/contrib/117436842245807158462\">Buchladen am Freiheitsplatz, Inh.: Dieter Dausien</a>'], 'photo_reference': 'AUc7tXUXhYDhViIb7o0Z4fHIdf3c_vXaM4c3w-wzsF09wmClt4UZnzsgcrGgfh_hiHkF5ejkI1j_t1N7EaCIx8323HE_k_mE-0jYHveqA4SToI723YyFjfTMRYfFvl448cClPKsCV25e-5iDx7CBBhHdl6vDVrHtO8r7ZVjhI79VVc0Uqm5R', 'width': 3888}], 'place_id': 'ChIJO11SIxkXvUcRRNgtuhqf-m4', 'plus_code': {'compound_code': '4WP9+8F Hanau, Germany', 'global_code': '9F2C4WP9+8F'}, 'rating': 4.6, 'reference': 'ChIJO11SIxkXvUcRRNgtuhqf-m4', 'scope': 'GOOGLE', 'types': ['book_store', 'point_of_interest', 'store', 'establishment'], 'user_ratings_total': 264, 'vicinity': 'Am Freiheitsplatz 6, Hanau'}, {'business_status': 'OPERATIONAL', 'geometry': {'location': {'lat': 50.0965, 'lng': 8.792399999999999}, 'viewport': {'northeast': {'lat': 50.0978801302915, 'lng': 8.793784730291502}, 'southwest': {'lat': 50.0951821697085, 'lng': 8.791086769708498}}}, 'icon': 'https://maps.gstatic.com/mapfiles/place_api/icons/v1/png_71/gas_station-71.png', 'icon_background_color': '#909CE1', 'icon_mask_base_uri': 'https://maps.gstatic.com/mapfiles/place_api/icons/v2/gas_pinlet', 'name': 'JET Tankstelle', 'opening_hours': {'open_now': True}, 'photos': [{'height': 1192, 'html_attributions': ['<a href=\"https://maps.google.com/maps/contrib/105125453841295381639\">JET Tankstelle</a>'], 'photo_reference': 'AUc7tXVUl7NZKJqQgQ7VEhwJ0nmM--pkfp2y2rUopRKaycg8ONDO08fIr0nX2DgGWTUgGj3gN0U-Uo6VwG_Q20s4ORKsc4Ak6l7Ux92a9swE2Bysg-l_SNFW-1mtnXBbjNesmGzJFmM7WlGHFmZaVwEl4ojh1mG5Mh_sjaRaJg_7sfIsDw8k', 'width': 2118}], 'place_id': 'ChIJM9FMNh4SvUcRQJOaYGQCJm0', 'plus_code': {'compound_code': '3QWR+HX Offenbach, Germany', 'global_code': '9F2C3QWR+HX'}, 'rating': 4.3, 'reference': 'ChIJM9FMNh4SvUcRQJOaYGQCJm0', 'scope': 'GOOGLE', 'types': ['gas_station', 'supermarket', 'book_store', 'cafe', 'grocery_or_supermarket', 'restaurant', 'food', 'point_of_interest', 'store', 'establishment'], 'user_ratings_total': 332, 'vicinity': 'Bieberer Straße 255, Offenbach am Main'}, {'business_status': 'OPERATIONAL', 'geometry': {'location': {'lat': 49.8319, 'lng': 8.8339}, 'viewport': {'northeast': {'lat': 49.83324603029151, 'lng': 8.835167580291502}, 'southwest': {'lat': 49.83054806970851, 'lng': 8.8324696197085}}}, 'icon': 'https://maps.gstatic.com/mapfiles/place_api/icons/v1/png_71/gas_station-71.png', 'icon_background_color': '#909CE1', 'icon_mask_base_uri': 'https://maps.gstatic.com/mapfiles/place_api/icons/v2/gas_pinlet', 'name': 'JET Tankstelle', 'opening_hours': {'open_now': True}, 'photos': [{'height': 1192, 'html_attributions': ['<a href=\"https://maps.google.com/maps/contrib/110732535693147493648\">JET Tankstelle</a>'], 'photo_reference': 'AUc7tXUSIj7JsrcRaS7qR37tcIhZOEK9EHpHzZlGvLrj-l-fiK3mB_0tR3DIDlB5NbP6rAH-ytQ0CcEuVMA41HzY4AHhHFp4WTo5qKxixzrIB3C6DbxNRv7DaBAqoUBza9mvcmSGm1aO-KEsy7_RHvrOrGA05Q-eTx2jukU3GOdZ5Q0DPV5u', 'width': 2118}], 'place_id': 'ChIJd6tC0DBmvUcRh8MldyK-q74', 'plus_code': {'compound_code': 'RRJM+QH Reinheim, Germany', 'global_code': '8FXCRRJM+QH'}, 'rating': 4.3, 'reference': 'ChIJd6tC0DBmvUcRh8MldyK-q74', 'scope': 'GOOGLE', 'types': ['gas_station', 'supermarket', 'car_wash', 'book_store', 'cafe', 'bakery', 'grocery_or_supermarket', 'food', 'point_of_interest', 'store', 'establishment'], 'user_ratings_total': 275, 'vicinity': 'Darmstädter Straße 53, Reinheim'}, {'business_status': 'OPERATIONAL', 'geometry': {'location': {'lat': 49.97781079999999, 'lng': 9.151022099999997}, 'viewport': {'northeast': {'lat': 49.9794599802915, 'lng': 9.1520323302915}, 'southwest': {'lat': 49.9767620197085, 'lng': 9.149334369708496}}}, 'icon': 'https://maps.gstatic.com/mapfiles/place_api/icons/v1/png_71/shopping-71.png', 'icon_background_color': '#4B96F3', 'icon_mask_base_uri': 'https://maps.gstatic.com/mapfiles/place_api/icons/v2/shopping_pinlet', 'name': 'Thalia', 'opening_hours': {'open_now': True}, 'photos': [{'height': 400, 'html_attributions': ['<a href=\"https://maps.google.com/maps/contrib/108381962433618821588\">Thalia Aschaffenburg - City-Galerie</a>'], 'photo_reference': 'AUc7tXVSt7IDjsRbUnleKQ73JjSvXq558YxMqIMmqMFPPxdjNUy_1w5coSRg-UQdTB-HNTsqyNZiCiy0Sz7BTj4MnltPYwp1adqsOhe4Up0sMZ7GJ0MrtuVmhPO210kFfwhB7JCntRFLGuPec-MqbXBCBEN8dwJypDEZIqwjmJRziUj7Cdke', 'width': 1150}], 'place_id': 'ChIJzb70ovxHvUcRChFvwWGN5Qg', 'plus_code': {'compound_code': 'X5H2+4C Aschaffenburg, Germany', 'global_code': '8FXFX5H2+4C'}, 'rating': 4.4, 'reference': 'ChIJzb70ovxHvUcRChFvwWGN5Qg', 'scope': 'GOOGLE', 'types': ['book_store', 'movie_rental', 'point_of_interest', 'store', 'establishment'], 'user_ratings_total': 1549, 'vicinity': 'Goldbacher Straße 2, Aschaffenburg'}, {'business_status': 'OPERATIONAL', 'geometry': {'location': {'lat': 50.089, 'lng': 8.7595}, 'viewport': {'northeast': {'lat': 50.09041243029149, 'lng': 8.760880380291502}, 'southwest': {'lat': 50.08771446970849, 'lng': 8.758182419708497}}}, 'icon': 'https://maps.gstatic.com/mapfiles/place_api/icons/v1/png_71/gas_station-71.png', 'icon_background_color': '#909CE1', 'icon_mask_base_uri': 'https://maps.gstatic.com/mapfiles/place_api/icons/v2/gas_pinlet', 'name': 'JET Tankstelle', 'opening_hours': {'open_now': True}, 'photos': [{'height': 1192, 'html_attributions': ['<a href=\"https://maps.google.com/maps/contrib/109180530592149636134\">JET Tankstelle</a>'], 'photo_reference': 'AUc7tXX6wvXhJa_dUWux9Z7qujodwo3SP0CNZ_RH1b5AXzGGtdngCgkfG3ta3T2XtrRmoP2FZJfVspL-l0V_zqu5d-7gtSbOKxsv_qD_Ditobp4z5e76jQWnAjlFtUUlnEk_gUOadz-VmBo0mQ1ySPi3uC2t9ehmqb-RNMXwAQH3GdFvL0JV', 'width': 2118}], 'place_id': 'ChIJq88ZlvANvUcR5e_FPzwes4E', 'plus_code': {'compound_code': '3QQ5+HR Offenbach, Germany', 'global_code': '9F2C3QQ5+HR'}, 'rating': 4.3, 'reference': 'ChIJq88ZlvANvUcR5e_FPzwes4E', 'scope': 'GOOGLE', 'types': ['gas_station', 'supermarket', 'car_wash', 'book_store', 'cafe', 'grocery_or_supermarket', 'restaurant', 'food', 'point_of_interest', 'store', 'establishment'], 'user_ratings_total': 1041, 'vicinity': 'Odenwaldring 84, Offenbach am Main'}, {'business_status': 'OPERATIONAL', 'geometry': {'location': {'lat': 49.8402902, 'lng': 9.145329499999999}, 'viewport': {'northeast': {'lat': 49.8416123302915, 'lng': 9.146720430291502}, 'southwest': {'lat': 49.8389143697085, 'lng': 9.144022469708498}}}, 'icon': 'https://maps.gstatic.com/mapfiles/place_api/icons/v1/png_71/shopping-71.png', 'icon_background_color': '#4B96F3', 'icon_mask_base_uri': 'https://maps.gstatic.com/mapfiles/place_api/icons/v2/shopping_pinlet', 'name': 'The book cabinet Inh. Claudia Schläfke', 'opening_hours': {'open_now': True}, 'photos': [{'height': 960, 'html_attributions': ['<a href=\"https://maps.google.com/maps/contrib/118032157942839377071\">Das Buchkabinett GbR</a>'], 'photo_reference': 'AUc7tXXuQ5y-YeG7JEgQ4W7S7sc5W4XOTzwiksdNr0Kkdl25AyA5VGMgT9zNKYYjhxFXc9Qj5LP9oFZNhiFLlQRVA5H5BzCllNYcJq4xoU7LwDKEe-oz1_zWk6SdIUEyw0ZzXWRlOgi2GTEND80ABk0P-N7IRemC1oRQBfcFxbWpJdIzmj44', 'width': 716}], 'place_id': 'ChIJE-Oag7hPvUcR_bUyOj14vdE', 'plus_code': {'compound_code': 'R4RW+44 Obernburg, Germany', 'global_code': '8FXFR4RW+44'}, 'rating': 4.8, 'reference': 'ChIJE-Oag7hPvUcR_bUyOj14vdE', 'scope': 'GOOGLE', 'types': ['book_store', 'point_of_interest', 'store', 'establishment'], 'user_ratings_total': 322, 'vicinity': 'Römerstraße 7, Obernburg am Main'}, {'business_status': 'OPERATIONAL', 'geometry': {'location': {'lat': 50.0822423, 'lng': 8.9811374}, 'viewport': {'northeast': {'lat': 50.0835993802915, 'lng': 8.982371430291503}, 'southwest': {'lat': 50.0809014197085, 'lng': 8.979673469708498}}}, 'icon': 'https://maps.gstatic.com/mapfiles/place_api/icons/v1/png_71/shopping-71.png', 'icon_background_color': '#4B96F3', 'icon_mask_base_uri': 'https://maps.gstatic.com/mapfiles/place_api/icons/v2/shopping_pinlet', 'name': 'Buchhandlung Lesebär', 'opening_hours': {'open_now': True}, 'photos': [{'height': 3354, 'html_attributions': ['<a href=\"https://maps.google.com/maps/contrib/107619735101422719688\">Werner Funk</a>'], 'photo_reference': 'AUc7tXWjKXG6qO5-aeq8IpBfVavfP2NCW0rBae_mpKNSkLNZ1U5NFPSnmQp9J28Z8RCMdHaOj9EdVXLBS4bW8krs13EKHE8YLGPAHmaYU8J6szuQG7b8r-XfyBYhKYDUZFKtrDrJ0aq7omTgglKnd1NgB-7WlPgqQLh8GpIEpRYPM5JNbJpZ', 'width': 4730}], 'place_id': 'ChIJ5V55jAA-vUcR8ls6Ozrcdw0', 'plus_code': {'compound_code': '3XJJ+VF Großkrotzenburg, Germany', 'global_code': '9F2C3XJJ+VF'}, 'rating': 4.9, 'reference': 'ChIJ5V55jAA-vUcR8ls6Ozrcdw0', 'scope': 'GOOGLE', 'types': ['book_store', 'point_of_interest', 'store', 'establishment'], 'user_ratings_total': 72, 'vicinity': 'Bahnhofstraße 16, Großkrotzenburg'}, {'business_status': 'OPERATIONAL', 'geometry': {'location': {'lat': 49.9972857, 'lng': 9.1849035}, 'viewport': {'northeast': {'lat': 49.9986060802915, 'lng': 9.186149180291503}, 'southwest': {'lat': 49.9959081197085, 'lng': 9.183451219708498}}}, 'icon': 'https://maps.gstatic.com/mapfiles/place_api/icons/v1/png_71/shopping-71.png', 'icon_background_color': '#4B96F3', 'icon_mask_base_uri': 'https://maps.gstatic.com/mapfiles/place_api/icons/v2/shopping_pinlet', 'name': 'Buchhandlung Lese-Insel', 'opening_hours': {'open_now': True}, 'photos': [{'height': 3024, 'html_attributions': ['<a href=\"https://maps.google.com/maps/contrib/100552191592578115662\">S D</a>'], 'photo_reference': 'AUc7tXUPgHOxEqBn7kNIARIaQxhkm5GPD47Ftc3QzOUxhTymoMO2nWkS-HDoIbny3FshjMiEzOJsyCWQHDDn62U0wBAg6s59u13OH394Sm3UJjacbW-W_6k-lY9uYUM_1egpPC9nrXX0zc2YE6nNFiKOCdhD5o1k_k2O0xlaKHmqM1xc1t_0', 'width': 4032}], 'place_id': 'ChIJp2_r4eg3vUcRSubmvhg7-uQ', 'plus_code': {'compound_code': 'X5WM+WX Goldbach, Germany', 'global_code': '8FXFX5WM+WX'}, 'rating': 4.8, 'reference': 'ChIJp2_r4eg3vUcRSubmvhg7-uQ', 'scope': 'GOOGLE', 'types': ['book_store', 'point_of_interest', 'store', 'establishment'], 'user_ratings_total': 75, 'vicinity': 'Aschaffenburger Straße 82, Goldbach'}, {'business_status': 'OPERATIONAL', 'geometry': {'location': {'lat': 49.9151956, 'lng': 9.128570400000001}, 'viewport': {'northeast': {'lat': 49.9165309802915, 'lng': 9.129748980291502}, 'southwest': {'lat': 49.9138330197085, 'lng': 9.127051019708498}}}, 'icon': 'https://maps.gstatic.com/mapfiles/place_api/icons/v1/png_71/shopping-71.png', 'icon_background_color': '#4B96F3', 'icon_mask_base_uri': 'https://maps.gstatic.com/mapfiles/place_api/icons/v2/shopping_pinlet', 'name': 'tikla24.de', 'opening_hours': {'open_now': True}, 'photos': [{'height': 322, 'html_attributions': ['<a href=\"https://maps.google.com/maps/contrib/114880406735755776058\">tikla24.de</a>'], 'photo_reference': 'AUc7tXUnrVRQUYN3WFTcFZF9QpCb5FydwfMgNwF4wAbzdHIJvK-cDh7p7Kclp8Q5Fw4K_sje5F-1TzNEc6IMTV8JM396SdLti9HL-K8m5N0kgLb0QLgAquvc4jaInG2iz1gll_mgcLOu81bgoGAE2vgSxlBP0KkLRfCoSLjl_1_zWIO2kzoQ', 'width': 432}], 'place_id': 'ChIJ7dFNgvlHvUcRGy33bS2Rl1I', 'plus_code': {'compound_code': 'W48H+3C Niedernberg, Germany', 'global_code': '8FXFW48H+3C'}, 'rating': 4.3, 'reference': 'ChIJ7dFNgvlHvUcRGy33bS2Rl1I', 'scope': 'GOOGLE', 'types': ['book_store', 'point_of_interest', 'store', 'establishment'], 'user_ratings_total': 22, 'vicinity': 'Nordring 67, Niedernberg'}, {'business_status': 'OPERATIONAL', 'geometry': {'location': {'lat': 49.9740404, 'lng': 9.146004999999999}, 'viewport': {'northeast': {'lat': 49.9754072802915, 'lng': 9.147389780291501}, 'southwest': {'lat': 49.9727093197085, 'lng': 9.144691819708497}}}, 'icon': 'https://maps.gstatic.com/mapfiles/place_api/icons/v1/png_71/shopping-71.png', 'icon_background_color': '#4B96F3', 'icon_mask_base_uri': 'https://maps.gstatic.com/mapfiles/place_api/icons/v2/shopping_pinlet', 'name': 'Graphik-Cabinet GmbH', 'photos': [{'height': 4032, 'html_attributions': ['<a href=\"https://maps.google.com/maps/contrib/108646657633579379023\">Darius Malaiska</a>'], 'photo_reference': 'AUc7tXVa7JypZgD7wJkm4tDgTjXK8FmRH17rXOtVIt6SMJiilb-38h2oZeRajOVIMwt4dy61wL91D2UaYr2D2sZMmq67xQyVGIyUQkUz1tUmg-1bWR8JygCe0_5qAxH8kupCVN8xEj4TfRlcZgZMbx_b5yF4PtTAjeQhegZZF0wPwC08GImw', 'width': 3024}], 'place_id': 'ChIJG3XZT-RHvUcReLJfWvKnQXk', 'plus_code': {'compound_code': 'X4FW+JC Aschaffenburg, Germany', 'global_code': '8FXFX4FW+JC'}, 'rating': 5, 'reference': 'ChIJG3XZT-RHvUcReLJfWvKnQXk', 'scope': 'GOOGLE', 'types': ['book_store', 'home_goods_store', 'point_of_interest', 'store', 'establishment'], 'user_ratings_total': 1, 'vicinity': 'Dalbergstraße 11, Aschaffenburg'}, {'business_status': 'OPERATIONAL', 'geometry': {'location': {'lat': 49.9193071, 'lng': 9.084684099999997}, 'viewport': {'northeast': {'lat': 49.92066723029149, 'lng': 9.086098730291502}, 'southwest': {'lat': 49.91796926970849, 'lng': 9.083400769708497}}}, 'icon': 'https://maps.gstatic.com/mapfiles/place_api/icons/v1/png_71/shopping-71.png', 'icon_background_color': '#4B96F3', 'icon_mask_base_uri': 'https://maps.gstatic.com/mapfiles/place_api/icons/v2/shopping_pinlet', 'name': 'Nawrot Bücher und TCM-Bedarf Kongressbuchhandlung', 'place_id': 'ChIJlU4NWn1GvUcReyOiysmkPW0', 'plus_code': {'compound_code': 'W39M+PV Großostheim, Germany', 'global_code': '8FXFW39M+PV'}, 'reference': 'ChIJlU4NWn1GvUcReyOiysmkPW0', 'scope': 'GOOGLE', 'types': ['book_store', 'point_of_interest', 'store', 'establishment'], 'vicinity': 'Blütenstraße 2, Großostheim'}, {'business_status': 'OPERATIONAL', 'geometry': {'location': {'lat': 50.07955319999999, 'lng': 8.941848699999998}, 'viewport': {'northeast': {'lat': 50.08095963029149, 'lng': 8.9431475302915}, 'southwest': {'lat': 50.07826166970849, 'lng': 8.940449569708495}}}, 'icon': 'https://maps.gstatic.com/mapfiles/place_api/icons/v1/png_71/shopping-71.png', 'icon_background_color': '#4B96F3', 'icon_mask_base_uri': 'https://maps.gstatic.com/mapfiles/place_api/icons/v2/shopping_pinlet', 'name': 'Die Bücherstube', 'opening_hours': {'open_now': True}, 'photos': [{'height': 2777, 'html_attributions': ['<a href=\"https://maps.google.com/maps/contrib/117837375514956151099\">Jalaluddin Shirzad</a>'], 'photo_reference': 'AUc7tXWBuHK6jVF1QiyoYrZzkApa2iJ5S2dJ5uiGIWw1uqqtds81Ly8zgqXQz-HAfyTjiiPz_CH3m5qWlUbrlt6uzb5t8iE-i2ClcPSHiDpCq3pZW2zo084WQ8WNGRJ1Q7FS-vrzaAFRllKpKXNC-8-DMWWAP34DLokq-oMlkw2Rz8TKEfaw', 'width': 3628}], 'place_id': 'ChIJVYOwltsVvUcRvIN3CMvQFLs', 'plus_code': {'compound_code': '3WHR+RP Hainburg, Germany', 'global_code': '9F2C3WHR+RP'}, 'rating': 4.9, 'reference': 'ChIJVYOwltsVvUcRvIN3CMvQFLs', 'scope': 'GOOGLE', 'types': ['book_store', 'point_of_interest', 'store', 'establishment'], 'user_ratings_total': 62, 'vicinity': 'Schulstraße 6, Hainburg'}, {'business_status': 'OPERATIONAL', 'geometry': {'location': {'lat': 49.97492310000001, 'lng': 9.150497300000001}, 'viewport': {'northeast': {'lat': 49.9762613302915, 'lng': 9.151791880291503}, 'southwest': {'lat': 49.9735633697085, 'lng': 9.149093919708498}}}, 'icon': 'https://maps.gstatic.com/mapfiles/place_api/icons/v1/png_71/shopping-71.png', 'icon_background_color': '#4B96F3', 'icon_mask_base_uri': 'https://maps.gstatic.com/mapfiles/place_api/icons/v2/shopping_pinlet', 'name': 'Bücherzimmer', 'opening_hours': {'open_now': True}, 'photos': [{'height': 400, 'html_attributions': ['<a href=\"https://maps.google.com/maps/contrib/115677880000093394128\">Bücherzimmer</a>'], 'photo_reference': 'AUc7tXUQvT8xVwPzSzcO__BLfkip2yBDfwmITShbDYgJGb1EUuJYGU7oCCX4LW6sAlGh4Lev3qb0efQ7blSjKfBH33Gu5dCHxAL7Z8VlN54KAX5oJfkQtZW5FBd-SqBrT3Kjk9Wc545K0Kjcm3ec-6oF0nuSehA3THxPJ0BdhszYtpAqo-ss', 'width': 1138}], 'place_id': 'ChIJ47-tcuNHvUcRb04WK2MCyIY', 'plus_code': {'compound_code': 'X5F2+X5 Aschaffenburg, Germany', 'global_code': '8FXFX5F2+X5'}, 'rating': 4.9, 'reference': 'ChIJ47-tcuNHvUcRb04WK2MCyIY', 'scope': 'GOOGLE', 'types': ['book_store', 'point_of_interest', 'store', 'establishment'], 'user_ratings_total': 26, 'vicinity': 'Roßmarkt 35, Aschaffenburg'}, {'business_status': 'OPERATIONAL', 'geometry': {'location': {'lat': 50.0754422, 'lng': 8.9675657}, 'viewport': {'northeast': {'lat': 50.07680483029149, 'lng': 8.968830230291502}, 'southwest': {'lat': 50.07410686970849, 'lng': 8.966132269708497}}}, 'icon': 'https://maps.gstatic.com/mapfiles/place_api/icons/v1/png_71/shopping-71.png', 'icon_background_color': '#4B96F3', 'icon_mask_base_uri': 'https://maps.gstatic.com/mapfiles/place_api/icons/v2/shopping_pinlet', 'name': 'Lieferbuchhandlung VielSeitig Klaus Rohé', 'opening_hours': {'open_now': True}, 'place_id': 'ChIJyyA3PfoVvUcRQgQ73ZgiSiY', 'plus_code': {'compound_code': '3XG9+52 Hainburg, Germany', 'global_code': '9F2C3XG9+52'}, 'rating': 4.9, 'reference': 'ChIJyyA3PfoVvUcRQgQ73ZgiSiY', 'scope': 'GOOGLE', 'types': ['book_store', 'point_of_interest', 'store', 'establishment'], 'user_ratings_total': 9, 'vicinity': 'Kirchstraße 24, Hainburg'}, {'business_status': 'OPERATIONAL', 'geometry': {'location': {'lat': 49.97984340000001, 'lng': 9.063635800000002}, 'viewport': {'northeast': {'lat': 49.9812298302915, 'lng': 9.065073930291504}, 'southwest': {'lat': 49.9785318697085, 'lng': 9.0623759697085}}}, 'icon': 'https://maps.gstatic.com/mapfiles/place_api/icons/v1/png_71/generic_business-71.png', 'icon_background_color': '#7B9EB0', 'icon_mask_base_uri': 'https://maps.gstatic.com/mapfiles/place_api/icons/v2/generic_pinlet', 'name': 'Logophon Verlag', 'photos': [{'height': 2917, 'html_attributions': ['<a href=\"https://maps.google.com/maps/contrib/112173647540232137426\">Logophon Verlag</a>'], 'photo_reference': 'AUc7tXVFHMHtjC7ljouxtj63-gNFgvDdmCFh11Aier4iJoZCxw9u7n6RFjQe02JzSm1jTgvShyQwYmLLJu3QmwTKpLk6zLBvPgE3ja38wraJxVkywFEXaZ3bsmWrrVyrpKDWB4AFjCMFggvDeJuQbi8fFWG0Cllxk6o7P2cfxyJEKQKInwnq', 'width': 2917}], 'place_id': 'ChIJMQr2ucuWvUcRsAKPzpuVQRY', 'plus_code': {'compound_code': 'X3H7+WF Stockstadt am Main, Germany', 'global_code': '8FXFX3H7+WF'}, 'reference': 'ChIJMQr2ucuWvUcRsAKPzpuVQRY', 'scope': 'GOOGLE', 'types': ['book_store', 'point_of_interest', 'store', 'establishment'], 'vicinity': 'Hauptstraße 23, Stockstadt am Main'}], 'status': 'OK'}\n"
     ]
    }
   ],
   "source": [
    "feel_motivated = True\n",
    "work_plcs = gmaps.places_nearby(\n",
    "    location = (start_location[\"lat\"], start_location[\"long\"]),\n",
    "    radius = search_radius,\n",
    "    type = motivated_work_plc_types if feel_motivated else lazy_work_plc_types,\n",
    "    language = \"en\")\n",
    "\n",
    "print(\"N. Work places:\", len(work_plcs[\"results\"]))\n",
    "print(work_plcs)"
   ]
  },
  {
   "cell_type": "code",
   "execution_count": 30,
   "id": "88197c59",
   "metadata": {},
   "outputs": [
    {
     "name": "stdout",
     "output_type": "stream",
     "text": [
      "N. Fun places: 16\n",
      "{'html_attributions': [], 'results': [{'business_status': 'OPERATIONAL', 'geometry': {'location': {'lat': 50.068895, 'lng': 8.864600199999998}, 'viewport': {'northeast': {'lat': 50.0706227802915, 'lng': 8.866283480291504}, 'southwest': {'lat': 50.0679248197085, 'lng': 8.863585519708499}}}, 'icon': 'https://maps.gstatic.com/mapfiles/place_api/icons/v1/png_71/lodging-71.png', 'icon_background_color': '#909CE1', 'icon_mask_base_uri': 'https://maps.gstatic.com/mapfiles/place_api/icons/v2/hotel_pinlet', 'name': 'monte mare Obertshausen', 'photos': [{'height': 539, 'html_attributions': ['<a href=\"https://maps.google.com/maps/contrib/111629175667741504774\">Helmut Willand</a>'], 'photo_reference': 'AUc7tXWWUpzDoXO99raBct6JKZvx96mRTojYXrY1qjL_nlancm_QvgnQ6dEb0BMmpJyi4FP7FtD79BY-bDxdw0Qh9mymxfB0kQzeq9Zro0ticdsXvGUom1SlE8rkGQfSznia3ZRYLHoS8q4Egz4HGxnqwcVGZWnaJWNNfvChsJpsUIgU_U1D', 'width': 1066}], 'place_id': 'ChIJNbIcVIoTvUcR-_byld0yG0g', 'plus_code': {'compound_code': '3V97+HR Obertshausen, Germany', 'global_code': '9F2C3V97+HR'}, 'rating': 3.9, 'reference': 'ChIJNbIcVIoTvUcR-_byld0yG0g', 'scope': 'GOOGLE', 'types': ['amusement_park', 'spa', 'lodging', 'point_of_interest', 'health', 'establishment'], 'user_ratings_total': 4996, 'vicinity': 'Badstraße 19, Obertshausen'}, {'business_status': 'OPERATIONAL', 'geometry': {'location': {'lat': 50.1535928, 'lng': 9.032030100000002}, 'viewport': {'northeast': {'lat': 50.1548524302915, 'lng': 9.033085430291504}, 'southwest': {'lat': 50.1521544697085, 'lng': 9.030387469708499}}}, 'icon': 'https://maps.gstatic.com/mapfiles/place_api/icons/v1/png_71/park-71.png', 'icon_background_color': '#4DB546', 'icon_mask_base_uri': 'https://maps.gstatic.com/mapfiles/place_api/icons/v2/tree_pinlet', 'name': 'Freizeitpark Rodenbach', 'photos': [{'height': 2000, 'html_attributions': ['<a href=\"https://maps.google.com/maps/contrib/109073875199636907824\">Freizeitpark Rodenbach</a>'], 'photo_reference': 'AUc7tXVhc7uvgP2gBrNYjXJUrTjj65FzMiAG7IhTS9TSD7NCfektPkeytTDDXKpPAUUOzUqmPyImJyIYYv-cHV-4ddHdb658GjNr624rICiHopGUSxdv9L45Hll4VmHOC98ur9O7QcA7NJfH5MQmvcM2p1s7nxY1n6dmqLwy61Uj6zT583Cb', 'width': 3000}], 'place_id': 'ChIJC6iKFTc9vUcRUClkwRq7esE', 'plus_code': {'compound_code': '523J+CR Rodenbach, Germany', 'global_code': '9F2F523J+CR'}, 'rating': 4.2, 'reference': 'ChIJC6iKFTc9vUcRUClkwRq7esE', 'scope': 'GOOGLE', 'types': ['park', 'amusement_park', 'rv_park', 'lodging', 'point_of_interest', 'establishment'], 'user_ratings_total': 106, 'vicinity': 'Am Aueweg 6, Rodenbach'}, {'business_status': 'OPERATIONAL', 'geometry': {'location': {'lat': 50.09647510000001, 'lng': 8.795557700000002}, 'viewport': {'northeast': {'lat': 50.0973862802915, 'lng': 8.796400030291505}, 'southwest': {'lat': 50.0946883197085, 'lng': 8.7937020697085}}}, 'icon': 'https://maps.gstatic.com/mapfiles/place_api/icons/v1/png_71/generic_business-71.png', 'icon_background_color': '#7B9EB0', 'icon_mask_base_uri': 'https://maps.gstatic.com/mapfiles/place_api/icons/v2/generic_pinlet', 'name': 'Fun Forest GmbH AbenteuerPark Offenbach', 'opening_hours': {'open_now': False}, 'photos': [{'height': 2048, 'html_attributions': ['<a href=\"https://maps.google.com/maps/contrib/107369490528573997483\">Fun Forest GmbH AbenteuerPark Offenbach</a>'], 'photo_reference': 'AUc7tXWW1d-QStpefxIHEQ1I6UhFaW2TNDh7eaaM-xu2-XLVPC5CictsU2UDfDRF8CcKYtqCy6FOCsopCl5C0Iu8rg9C7ZC1ecPnESMjmO_WhC_ghsocWzD8UEPdnuAB-4P2quoYDYqHGaNDVA1e_z_AslRLJ6AgtOwEjEqv8RdVKcCi8BE9', 'width': 1365}], 'place_id': 'ChIJgTH5GiASvUcRCJJ_0meTHhs', 'plus_code': {'compound_code': '3QWW+H6 Offenbach, Germany', 'global_code': '9F2C3QWW+H6'}, 'rating': 4.6, 'reference': 'ChIJgTH5GiASvUcRCJJ_0meTHhs', 'scope': 'GOOGLE', 'types': ['tourist_attraction', 'amusement_park', 'park', 'point_of_interest', 'establishment'], 'user_ratings_total': 1360, 'vicinity': 'Bieberer Straße 276A, Offenbach am Main'}, {'business_status': 'OPERATIONAL', 'geometry': {'location': {'lat': 49.95462, 'lng': 9.118789999999999}, 'viewport': {'northeast': {'lat': 49.9558663302915, 'lng': 9.120284130291502}, 'southwest': {'lat': 49.9531683697085, 'lng': 9.117586169708499}}}, 'icon': 'https://maps.gstatic.com/mapfiles/place_api/icons/v1/png_71/generic_business-71.png', 'icon_background_color': '#7B9EB0', 'icon_mask_base_uri': 'https://maps.gstatic.com/mapfiles/place_api/icons/v2/generic_pinlet', 'name': \"Jump'n Fly Trampolinpark Aschaffenburg\", 'opening_hours': {'open_now': True}, 'photos': [{'height': 811, 'html_attributions': ['<a href=\"https://maps.google.com/maps/contrib/109296309447529464897\">Jump&#39;n Fly Trampolinpark Aschaffenburg</a>'], 'photo_reference': 'AUc7tXXKJ2ra1CfosG1B9A9EhYeUtO4jTFCnYgrdQtZ1IxMlQl0vMcJ7_4SmMafB9laSokvwUPiSa585a7kU7lTpZ_ZxIZaisoFFOIquqFtqY29HP70Ei2bHguit0KDHfcTbqyJzIea82LTYvvxWn4EFnRVNMn146TOk-DJ_r4y6v2uckd3I', 'width': 1440}], 'place_id': 'ChIJi64ddHhHvUcR-Q35P0u1bjs', 'plus_code': {'compound_code': 'X439+RG Aschaffenburg, Germany', 'global_code': '8FXFX439+RG'}, 'rating': 4.4, 'reference': 'ChIJi64ddHhHvUcR-Q35P0u1bjs', 'scope': 'GOOGLE', 'types': ['amusement_park', 'point_of_interest', 'establishment'], 'user_ratings_total': 550, 'vicinity': 'Mainwiesenweg 83, Aschaffenburg'}, {'business_status': 'OPERATIONAL', 'geometry': {'location': {'lat': 50.007163, 'lng': 9.216828099999997}, 'viewport': {'northeast': {'lat': 50.0081894302915, 'lng': 9.218335680291503}, 'southwest': {'lat': 50.0054914697085, 'lng': 9.215637719708498}}}, 'icon': 'https://maps.gstatic.com/mapfiles/place_api/icons/v1/png_71/generic_business-71.png', 'icon_background_color': '#7B9EB0', 'icon_mask_base_uri': 'https://maps.gstatic.com/mapfiles/place_api/icons/v2/generic_pinlet', 'name': 'AIRBASE ASCHAFFENBURG - HÖSBACH Trampolin und Funpark', 'opening_hours': {'open_now': False}, 'photos': [{'height': 3024, 'html_attributions': ['<a href=\"https://maps.google.com/maps/contrib/115402511132466936894\">Mnvn Ar</a>'], 'photo_reference': 'AUc7tXUCxzuI4M7UZu3ENKsykMHDpoJfHhVT7bps9BH4lvwINOlG6H7sZRQZhNto2VNwH6q8ZErfta2a8AHDKt7aNowMfji2Ju8CQv9wltjM3rlh9sPF9-9y87jCZZoayLt0-aeMIeoDbfWJcmZutoHLc-_PqSb5l0rSyGEm7X9oh7cS9sMb', 'width': 4032}], 'place_id': 'ChIJ-cnEmnI3vUcRzkYWtrTyjuE', 'plus_code': {'compound_code': '2648+VP Hösbach, Germany', 'global_code': '9F2F2648+VP'}, 'rating': 4.8, 'reference': 'ChIJ-cnEmnI3vUcRzkYWtrTyjuE', 'scope': 'GOOGLE', 'types': ['amusement_park', 'restaurant', 'point_of_interest', 'food', 'establishment'], 'user_ratings_total': 653, 'vicinity': 'Daimlerstraße 4, Hösbach'}, {'business_status': 'OPERATIONAL', 'geometry': {'location': {'lat': 50.05729410000001, 'lng': 9.060991100000003}, 'viewport': {'northeast': {'lat': 50.05863048029151, 'lng': 9.062645480291502}, 'southwest': {'lat': 50.05593251970851, 'lng': 9.059947519708498}}}, 'icon': 'https://maps.gstatic.com/mapfiles/place_api/icons/v1/png_71/generic_business-71.png', 'icon_background_color': '#7B9EB0', 'icon_mask_base_uri': 'https://maps.gstatic.com/mapfiles/place_api/icons/v2/generic_pinlet', 'name': 'FLIGHT - Fussballgolf', 'opening_hours': {'open_now': False}, 'photos': [{'height': 2939, 'html_attributions': ['<a href=\"https://maps.google.com/maps/contrib/110769035903954931399\">FLIGHT - Fussballgolf</a>'], 'photo_reference': 'AUc7tXWw5AkUX-nBv4lO8ijhme6s8Ju6Jz1v3DbPhq3kY8KbaY94e5VCTFJUQa_39Bj3u2wc3W_dlL-Yz0-4i8Fccv05sl_tl9CPUOMl7WEkbmZ0lBUP29Kg06YTSM-PF-JWNu9pby5BVfxJIltVnowTVwIFJGpAr0aOnwujeBAkR1yNy1J9', 'width': 3994}], 'place_id': 'ChIJUz7oZ2Y_vUcRCCvM_9_nNHo', 'plus_code': {'compound_code': '3346+W9 Alzenau, Germany', 'global_code': '9F2F3346+W9'}, 'rating': 5, 'reference': 'ChIJUz7oZ2Y_vUcRCCvM_9_nNHo', 'scope': 'GOOGLE', 'types': ['amusement_park', 'point_of_interest', 'establishment'], 'user_ratings_total': 1, 'vicinity': 'Gerichtsplatzstraße 75, Alzenau'}, {'business_status': 'OPERATIONAL', 'geometry': {'location': {'lat': 50.05745839999999, 'lng': 8.876295599999999}, 'viewport': {'northeast': {'lat': 50.05881593029149, 'lng': 8.877618280291502}, 'southwest': {'lat': 50.0561179697085, 'lng': 8.874920319708497}}}, 'icon': 'https://maps.gstatic.com/mapfiles/place_api/icons/v1/png_71/generic_business-71.png', 'icon_background_color': '#7B9EB0', 'icon_mask_base_uri': 'https://maps.gstatic.com/mapfiles/place_api/icons/v2/generic_pinlet', 'name': 'FUNPARK Rodgau - Bowling, Escape Rooms, Adventure Golf, Lasertag', 'opening_hours': {'open_now': False}, 'photos': [{'height': 600, 'html_attributions': ['<a href=\"https://maps.google.com/maps/contrib/108112199481096904132\">FUNPARK Rodgau - Bowling, Escape Rooms, Adventure Golf, Lasertag</a>'], 'photo_reference': 'AUc7tXXBpDhDwC502GDX-Lu4WbFAVLFaS3zX3rR31qtSSakstls_4ODV4h-dovZWom5p3FktzZ7PXi9_jGtWi3UPyqaVBlF4HlpByrH3I8kFe5fkRTlXbaxrPtRSZ_oYHhrCfz64UdxBWsd9haA_JdOqloD3xWoya8Ic0qYI8wiR5-PMoxZv', 'width': 800}], 'place_id': 'ChIJx23IPGgVvUcRnDlneil0LJk', 'plus_code': {'compound_code': '3V4G+XG Rodgau, Germany', 'global_code': '9F2C3V4G+XG'}, 'rating': 4.2, 'reference': 'ChIJx23IPGgVvUcRnDlneil0LJk', 'scope': 'GOOGLE', 'types': ['amusement_park', 'point_of_interest', 'establishment'], 'user_ratings_total': 205, 'vicinity': 'Marie-Jahoda-Straße 2, Rodgau'}, {'business_status': 'OPERATIONAL', 'geometry': {'location': {'lat': 50.1333908, 'lng': 8.937427699999999}, 'viewport': {'northeast': {'lat': 50.1351690302915, 'lng': 8.938889580291502}, 'southwest': {'lat': 50.1324710697085, 'lng': 8.936191619708497}}}, 'icon': 'https://maps.gstatic.com/mapfiles/place_api/icons/v1/png_71/bar-71.png', 'icon_background_color': '#FF9E67', 'icon_mask_base_uri': 'https://maps.gstatic.com/mapfiles/place_api/icons/v2/bar_pinlet', 'name': 'Licht- und Luftbad Hanau e.V.', 'opening_hours': {'open_now': False}, 'photos': [{'height': 5472, 'html_attributions': ['<a href=\"https://maps.google.com/maps/contrib/109345864326629900080\">Saziment</a>'], 'photo_reference': 'AUc7tXWzMNi3JoYFB31Q84MuRkMepCu4cJr212-zPjHEm_XmZUpmfA02cDrTxdLLAGVOnslIP9_m1_ag5BBZFqZBvpN-arSYdwH7L2FEHFNHixTLhb4m3uPPCRHzXaPahHOA3M5HHheGQYMfggsHeoX75sy7XAnb-fyr0ENZuMJeHHdYKmvs', 'width': 7296}], 'place_id': 'ChIJ6-NXKwEXvUcRac5bnqRPNnI', 'plus_code': {'compound_code': '4WMP+9X Hanau, Germany', 'global_code': '9F2C4WMP+9X'}, 'price_level': 1, 'rating': 4.5, 'reference': 'ChIJ6-NXKwEXvUcRac5bnqRPNnI', 'scope': 'GOOGLE', 'types': ['amusement_park', 'bar', 'restaurant', 'point_of_interest', 'store', 'food', 'establishment'], 'user_ratings_total': 205, 'vicinity': 'August-Schärttner-Straße 19a, Hanau'}, {'business_status': 'OPERATIONAL', 'geometry': {'location': {'lat': 50.1345098, 'lng': 8.916407499999998}, 'viewport': {'northeast': {'lat': 50.13550388029149, 'lng': 8.9176387802915}, 'southwest': {'lat': 50.1328059197085, 'lng': 8.914940819708495}}}, 'icon': 'https://maps.gstatic.com/mapfiles/place_api/icons/v1/png_71/generic_business-71.png', 'icon_background_color': '#7B9EB0', 'icon_mask_base_uri': 'https://maps.gstatic.com/mapfiles/place_api/icons/v2/generic_pinlet', 'name': 'Kinderkarussell Hollenbach', 'opening_hours': {'open_now': True}, 'photos': [{'height': 810, 'html_attributions': ['<a href=\"https://maps.google.com/maps/contrib/106431916290417647363\">Kinderkarussell Hollenbach</a>'], 'photo_reference': 'AUc7tXW2amHCCuXKvXzbPAPfetK-3BNWOt4WdnNNC7rMvrt0SIFfMKeFFtFZ1SlwvJBdGHIPlnM4FoiOFHqHx-91Se69cgGgWuTkJVi20cgRGwWCsnX88tM9NTyVEJqWChifQ4gx56sQ_r2QZrMCsg0qnu4copvYnkaToezAQf_g1CqIt12E', 'width': 1440}], 'place_id': 'ChIJ11qawFkXvUcRmhrI50SfavU', 'plus_code': {'compound_code': '4WM8+RH Hanau, Germany', 'global_code': '9F2C4WM8+RH'}, 'rating': 5, 'reference': 'ChIJ11qawFkXvUcRmhrI50SfavU', 'scope': 'GOOGLE', 'types': ['amusement_park', 'point_of_interest', 'establishment'], 'user_ratings_total': 7, 'vicinity': 'Hammerstraße 10, Hanau'}, {'business_status': 'OPERATIONAL', 'geometry': {'location': {'lat': 49.7848412, 'lng': 9.014766}, 'viewport': {'northeast': {'lat': 49.7863169302915, 'lng': 9.016276430291503}, 'southwest': {'lat': 49.7836189697085, 'lng': 9.013578469708499}}}, 'icon': 'https://maps.gstatic.com/mapfiles/place_api/icons/v1/png_71/generic_business-71.png', 'icon_background_color': '#7B9EB0', 'icon_mask_base_uri': 'https://maps.gstatic.com/mapfiles/place_api/icons/v2/generic_pinlet', 'name': 'Märchenwald Obrunnschlucht', 'opening_hours': {'open_now': True}, 'photos': [{'height': 3000, 'html_attributions': ['<a href=\"https://maps.google.com/maps/contrib/118399967591957602157\">Alex Ch.</a>'], 'photo_reference': 'AUc7tXVg2W1jlHK0HedA2j2-sE6QZmO8iUjXNwKKFfRykGjr14yfLu8J2inU147xb33tfYbjIWxTy5X5sdWYpN9_ZadM4pwXFENzvRUFmn3hWvSjmdCHhc8hojFr-5dJIoInGv4DUr-VkF1e8Itt08V_BTD7wV_GWnHhuusajugVRUWUWttq', 'width': 4000}], 'place_id': 'ChIJQXlqc6JbvUcRYTbBc9dpNms', 'plus_code': {'compound_code': 'Q2M7+WW Höchst im Odenwald, Germany', 'global_code': '8FXFQ2M7+WW'}, 'rating': 4.6, 'reference': 'ChIJQXlqc6JbvUcRYTbBc9dpNms', 'scope': 'GOOGLE', 'types': ['amusement_park', 'point_of_interest', 'establishment'], 'user_ratings_total': 208, 'vicinity': 'Höchst im Odenwald'}, {'business_status': 'OPERATIONAL', 'geometry': {'location': {'lat': 50.1477118, 'lng': 8.9223683}, 'viewport': {'northeast': {'lat': 50.14895483029149, 'lng': 8.923136580291503}, 'southwest': {'lat': 50.14625686970849, 'lng': 8.920438619708499}}}, 'icon': 'https://maps.gstatic.com/mapfiles/place_api/icons/v1/png_71/generic_business-71.png', 'icon_background_color': '#7B9EB0', 'icon_mask_base_uri': 'https://maps.gstatic.com/mapfiles/place_api/icons/v2/generic_pinlet', 'name': 'Fußballpark Hanau', 'opening_hours': {'open_now': True}, 'photos': [{'height': 946, 'html_attributions': ['<a href=\"https://maps.google.com/maps/contrib/100740218624432028820\">Fußballpark Hanau</a>'], 'photo_reference': 'AUc7tXUfPXe3YJnTx1k5CNBPXy07wHHJtnHuXfI4DkA1bRQRgdNI4l4C5sT27LFNToUD2PUDEBGl_WR1HhuTc2bzB62-9G61JMZIEjkylwAtA3YIOjQtf8N-js1ErcHcE_3K4axcc99rSnjeUe94c7KdGryP7JNlNg-gf8b1ubU0Mo8NBAi5', 'width': 946}], 'place_id': 'ChIJ55GAVRQXvUcRgilmZDL4HWw', 'plus_code': {'compound_code': '4WXC+3W Hanau, Germany', 'global_code': '9F2C4WXC+3W'}, 'rating': 4.3, 'reference': 'ChIJ55GAVRQXvUcRgilmZDL4HWw', 'scope': 'GOOGLE', 'types': ['amusement_park', 'point_of_interest', 'establishment'], 'user_ratings_total': 248, 'vicinity': 'Martin-Luther-King-Straße 40, Hanau'}, {'business_status': 'OPERATIONAL', 'geometry': {'location': {'lat': 50.104736, 'lng': 9.421576}, 'viewport': {'northeast': {'lat': 50.10608498029149, 'lng': 9.422924980291503}, 'southwest': {'lat': 50.10338701970849, 'lng': 9.420227019708499}}}, 'icon': 'https://maps.gstatic.com/mapfiles/place_api/icons/v1/png_71/generic_business-71.png', 'icon_background_color': '#7B9EB0', 'icon_mask_base_uri': 'https://maps.gstatic.com/mapfiles/place_api/icons/v2/generic_pinlet', 'name': 'Weiher mit Grillhütte', 'opening_hours': {'open_now': True}, 'photos': [{'height': 3024, 'html_attributions': ['<a href=\"https://maps.google.com/maps/contrib/117990655696874666844\">Jürgen Müller</a>'], 'photo_reference': 'AUc7tXWUvSVBjP7TQKTIqB2QnUETykhnKHKuSaygNmHFsON1EyIX57Ui5Ssir5pFbdF48jGlEbpNMSsjKTWRfxfTw5Kp9lx7iZiA34LbemXbTF5Y0u5LHXGNNyx4BZ4TqoLpFYknQdKeKu_jD7Jx5JgHif0xmLGIBZccv2q0O1V884YoB-zF', 'width': 4032}], 'place_id': 'ChIJidBRMDHNokcRDHeQ1XB0Mp4', 'plus_code': {'compound_code': '4C3C+VJ Flörsbachtal, Germany', 'global_code': '9F2F4C3C+VJ'}, 'rating': 4.5, 'reference': 'ChIJidBRMDHNokcRDHeQ1XB0Mp4', 'scope': 'GOOGLE', 'types': ['amusement_park', 'point_of_interest', 'establishment'], 'user_ratings_total': 11, 'vicinity': '63639, Unnamed Road, Flörsbachtal'}, {'business_status': 'CLOSED_TEMPORARILY', 'geometry': {'location': {'lat': 50.11225270000001, 'lng': 8.841559}, 'viewport': {'northeast': {'lat': 50.11360168029151, 'lng': 8.842907980291502}, 'southwest': {'lat': 50.11090371970851, 'lng': 8.840210019708497}}}, 'icon': 'https://maps.gstatic.com/mapfiles/place_api/icons/v1/png_71/generic_business-71.png', 'icon_background_color': '#7B9EB0', 'icon_mask_base_uri': 'https://maps.gstatic.com/mapfiles/place_api/icons/v2/generic_pinlet', 'name': 'Driss Benaddi', 'permanently_closed': True, 'photos': [{'height': 4000, 'html_attributions': ['<a href=\"https://maps.google.com/maps/contrib/110803253713989040939\">Driss Benaddi</a>'], 'photo_reference': 'AUc7tXWUvnRsMa_fNfTFREjrHR2w1pFA5Tf_VQqznKAD_J1sWQTUZGjSwNDd_ekQ38g-NZU5yG1B7ad5TFnqsJAH_QN5PLi6ILYh6ImITwFb4G7Ca8zLcy6P8GIUGKhql0763H3nfC0ckfKKNc5sIimKs6wroohqOdO0kNJHyO9adDJe1w4z', 'width': 3000}], 'place_id': 'ChIJywLFvQMRvUcRJmJkUvCNNhQ', 'plus_code': {'compound_code': '4R6R+WJ Mühlheim am Main, Germany', 'global_code': '9F2C4R6R+WJ'}, 'reference': 'ChIJywLFvQMRvUcRJmJkUvCNNhQ', 'scope': 'GOOGLE', 'types': ['amusement_park', 'point_of_interest', 'establishment'], 'vicinity': 'Lämmerspieler Straße, Mühlheim am Main'}, {'business_status': 'OPERATIONAL', 'geometry': {'location': {'lat': 50.10477, 'lng': 9.451451}, 'viewport': {'northeast': {'lat': 50.10598648029151, 'lng': 9.452649930291503}, 'southwest': {'lat': 50.10328851970851, 'lng': 9.449951969708499}}}, 'icon': 'https://maps.gstatic.com/mapfiles/place_api/icons/v1/png_71/generic_business-71.png', 'icon_background_color': '#7B9EB0', 'icon_mask_base_uri': 'https://maps.gstatic.com/mapfiles/place_api/icons/v2/generic_pinlet', 'name': 'Quellensee Kempfenbrunn', 'photos': [{'height': 1152, 'html_attributions': ['<a href=\"https://maps.google.com/maps/contrib/107402377574386812801\">Timo Mark</a>'], 'photo_reference': 'AUc7tXVH76P17mDhivYegJhoA_dusrQMkzDMQwb9xtFHtqF2WBlil9isP3nzimKZokIWPTp5ZVny_sDkqF1hwjourHthMs6vcdZyhSttBu_pfBVbxxEs8PBr-gnsfNodG8gLo5s14iGhMm9eKWJdHilBy-3eSZw5Ij0XcnYOm3l-9OrK7kII', 'width': 2048}], 'place_id': 'ChIJMU4fZhLNokcRSXewSwv_Guw', 'plus_code': {'compound_code': '4F32+WH Flörsbachtal, Germany', 'global_code': '9F2F4F32+WH'}, 'rating': 3.7, 'reference': 'ChIJMU4fZhLNokcRSXewSwv_Guw', 'scope': 'GOOGLE', 'types': ['amusement_park', 'point_of_interest', 'establishment'], 'user_ratings_total': 3, 'vicinity': 'Flörsbachtal'}, {'business_status': 'OPERATIONAL', 'geometry': {'location': {'lat': 50.2010863, 'lng': 8.910885500000001}, 'viewport': {'northeast': {'lat': 50.20240398029151, 'lng': 8.912135480291502}, 'southwest': {'lat': 50.19970601970851, 'lng': 8.909437519708497}}}, 'icon': 'https://maps.gstatic.com/mapfiles/place_api/icons/v1/png_71/generic_business-71.png', 'icon_background_color': '#7B9EB0', 'icon_mask_base_uri': 'https://maps.gstatic.com/mapfiles/place_api/icons/v2/generic_pinlet', 'name': 'Lügen Baron', 'place_id': 'ChIJ4a6fxdQZvUcRlP9WArJcDvs', 'plus_code': {'compound_code': '6W26+C9 Bruchköbel, Germany', 'global_code': '9F2C6W26+C9'}, 'reference': 'ChIJ4a6fxdQZvUcRlP9WArJcDvs', 'scope': 'GOOGLE', 'types': ['amusement_park', 'point_of_interest', 'establishment'], 'vicinity': 'Hanauer Straße 7, Bruchköbel'}, {'business_status': 'OPERATIONAL', 'geometry': {'location': {'lat': 50.1065565, 'lng': 8.767359999999998}, 'viewport': {'northeast': {'lat': 50.10790298029149, 'lng': 8.7687815802915}, 'southwest': {'lat': 50.10520501970849, 'lng': 8.766083619708496}}}, 'icon': 'https://maps.gstatic.com/mapfiles/place_api/icons/v1/png_71/generic_business-71.png', 'icon_background_color': '#7B9EB0', 'icon_mask_base_uri': 'https://maps.gstatic.com/mapfiles/place_api/icons/v2/generic_pinlet', 'name': 'MainSandPlatz', 'opening_hours': {'open_now': False}, 'photos': [{'height': 768, 'html_attributions': ['<a href=\"https://maps.google.com/maps/contrib/114282089241584363632\">MainSandPlatz</a>'], 'photo_reference': 'AUc7tXUpBogQwRamficsU7RYtAkBeI5cQGg5xQR4eP62u2g49WbenGUT-RIO7TFviArS3swuTgGX1Pj77gUPlAeSSyX3riylB2kup3n-Dk_KXzfbZ4SjJkTA9h_Fzf_KGDcNkm_jkjEJ3INbM9M0xddI2pXqKXDoRDSVBqupRTmtY1wG6vG9', 'width': 1023}], 'place_id': 'ChIJQT7VSWAPvUcRvLelKaeI6XI', 'plus_code': {'compound_code': '4Q48+JW Offenbach, Germany', 'global_code': '9F2C4Q48+JW'}, 'rating': 4.6, 'reference': 'ChIJQT7VSWAPvUcRvLelKaeI6XI', 'scope': 'GOOGLE', 'types': ['amusement_park', 'cafe', 'doctor', 'restaurant', 'point_of_interest', 'health', 'food', 'school', 'establishment'], 'user_ratings_total': 16, 'vicinity': 'Großer Biergrund 36, Offenbach am Main'}], 'status': 'OK'}\n"
     ]
    }
   ],
   "source": [
    "fun_plcs = gmaps.places_nearby(\n",
    "    location = (start_location[\"lat\"], start_location[\"long\"]),\n",
    "    radius = search_radius,\n",
    "    type = fun_plc_types,\n",
    "    language = \"en\")\n",
    "\n",
    "print(\"N. Fun places:\", len(fun_plcs[\"results\"]))\n",
    "print(fun_plcs)"
   ]
  },
  {
   "cell_type": "code",
   "execution_count": 34,
   "id": "41f3f469",
   "metadata": {},
   "outputs": [],
   "source": [
    "def filter_places(gmaps_places_res, max_n_plcs, min_rating=0, include_maps_and_photos=True):\n",
    "    lst_fun_plcs = []\n",
    "    for place in gmaps_places_res[\"results\"]:\n",
    "        name = place[\"name\"]\n",
    "        if \"rating\" in place:\n",
    "            rating = place[\"rating\"]\n",
    "        else:\n",
    "            rating = \"NA\"\n",
    "        if rating == \"NA\" or rating < min_rating:\n",
    "            continue # exclude this place\n",
    "        try:\n",
    "            maps_and_photos = place[\"photos\"][0][\"html_attributions\"][0].replace('<a href=\"', '').split('\">')[0]\n",
    "        except:\n",
    "            maps_and_photos = \"NA\"\n",
    "            if include_maps_and_photos:\n",
    "                continue # exclude this place\n",
    "                \n",
    "        lst_fun_plcs.append(\n",
    "            {\n",
    "                \"name\": name,\n",
    "                \"rating\": rating,\n",
    "                \"maps_and_photos\": maps_and_photos\n",
    "            }\n",
    "        )\n",
    "\n",
    "    # filter results to max_n_places\n",
    "    return random.sample(lst_fun_plcs, max_n_plcs)"
   ]
  },
  {
   "cell_type": "code",
   "execution_count": 40,
   "id": "8fd1ba28",
   "metadata": {},
   "outputs": [
    {
     "name": "stdout",
     "output_type": "stream",
     "text": [
      "{'name': 'JET Tankstelle', 'rating': 4.3, 'maps_and_photos': 'https://maps.google.com/maps/contrib/109180530592149636134'}\n",
      "{'name': 'tikla24.de', 'rating': 4.3, 'maps_and_photos': 'https://maps.google.com/maps/contrib/114880406735755776058'}\n"
     ]
    }
   ],
   "source": [
    "rnd_work_plcs = filter_places(work_plcs, max_n_plcs = 2, min_rating = 3.5, include_maps_and_photos=True)\n",
    "for plc in rnd_work_plcs:\n",
    "    print(plc)"
   ]
  },
  {
   "cell_type": "code",
   "execution_count": 37,
   "id": "e1b99b42",
   "metadata": {},
   "outputs": [
    {
     "name": "stdout",
     "output_type": "stream",
     "text": [
      "{'name': \"Jump'n Fly Trampolinpark Aschaffenburg\", 'rating': 4.4, 'maps_and_photos': 'https://maps.google.com/maps/contrib/109296309447529464897'}\n",
      "{'name': 'Fun Forest GmbH AbenteuerPark Offenbach', 'rating': 4.6, 'maps_and_photos': 'https://maps.google.com/maps/contrib/107369490528573997483'}\n",
      "{'name': 'MainSandPlatz', 'rating': 4.6, 'maps_and_photos': 'https://maps.google.com/maps/contrib/114282089241584363632'}\n"
     ]
    }
   ],
   "source": [
    "rnd_fun_plcs = filter_places(fun_plcs, max_n_plcs = 2, min_rating = 3.5, include_maps_and_photos=True)\n",
    "for plc in rnd_fun_plcs:\n",
    "    print(plc)"
   ]
  },
  {
   "cell_type": "code",
   "execution_count": null,
   "id": "5d673b6c",
   "metadata": {},
   "outputs": [],
   "source": []
  },
  {
   "cell_type": "code",
   "execution_count": null,
   "id": "ee892210",
   "metadata": {},
   "outputs": [],
   "source": []
  }
 ],
 "metadata": {
  "kernelspec": {
   "display_name": "Python 3 (ipykernel)",
   "language": "python",
   "name": "python3"
  },
  "language_info": {
   "codemirror_mode": {
    "name": "ipython",
    "version": 3
   },
   "file_extension": ".py",
   "mimetype": "text/x-python",
   "name": "python",
   "nbconvert_exporter": "python",
   "pygments_lexer": "ipython3",
   "version": "3.9.18"
  }
 },
 "nbformat": 4,
 "nbformat_minor": 5
}
